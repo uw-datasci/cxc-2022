{
 "cells": [
  {
   "cell_type": "code",
   "execution_count": 1,
   "id": "402a7569",
   "metadata": {},
   "outputs": [],
   "source": [
    "import numpy as np # just in case\n",
    "\n",
    "a_sentence = \"I just want to encode this very very long sentence\""
   ]
  },
  {
   "cell_type": "code",
   "execution_count": 2,
   "id": "f425a082",
   "metadata": {},
   "outputs": [
    {
     "data": {
      "text/plain": [
       "array([[1., 0., 0., 0., 0., 0., 0., 0., 0., 0.],\n",
       "       [0., 1., 0., 0., 0., 0., 0., 0., 0., 0.],\n",
       "       [0., 0., 1., 0., 0., 0., 0., 0., 0., 0.],\n",
       "       [0., 0., 0., 1., 0., 0., 0., 0., 0., 0.],\n",
       "       [0., 0., 0., 0., 1., 0., 0., 0., 0., 0.],\n",
       "       [0., 0., 0., 0., 0., 1., 0., 0., 0., 0.],\n",
       "       [0., 0., 0., 0., 0., 0., 1., 0., 0., 0.],\n",
       "       [0., 0., 0., 0., 0., 0., 1., 0., 0., 0.],\n",
       "       [0., 0., 0., 0., 0., 0., 0., 1., 0., 0.],\n",
       "       [0., 0., 0., 0., 0., 0., 0., 0., 1., 0.]])"
      ]
     },
     "execution_count": 2,
     "metadata": {},
     "output_type": "execute_result"
    }
   ],
   "source": [
    "\"\"\"\n",
    "One Hot Encoding\n",
    "\n",
    "Ex. \n",
    "alls well ends well -> [1,0,0,0],[0,1,0,0],[0,0,1,0],[0,1,0,0]\n",
    "\"\"\"\n",
    "vocab = dict()\n",
    "word_count = 0\n",
    "\n",
    "for word in a_sentence.split(\" \"):\n",
    "    if word in vocab:\n",
    "        continue\n",
    "    else:\n",
    "        vocab[word] = word_count\n",
    "        word_count += 1\n",
    "        \n",
    "word_count += 1\n",
    "\n",
    "sentence_vec = []\n",
    "for word in a_sentence.split(\" \"):\n",
    "    encoded_word = np.zeros(word_count)\n",
    "    one_idx = vocab[word] if word in vocab.keys() else word_count\n",
    "    encoded_word[one_idx] = 1\n",
    "    sentence_vec.append(encoded_word)\n",
    "np.stack(sentence_vec)"
   ]
  },
  {
   "cell_type": "code",
   "execution_count": 3,
   "id": "0f9a0489",
   "metadata": {},
   "outputs": [
    {
     "data": {
      "text/plain": [
       "{'I': 0,\n",
       " 'just': 1,\n",
       " 'want': 2,\n",
       " 'to': 3,\n",
       " 'encode': 4,\n",
       " 'this': 5,\n",
       " 'very': 6,\n",
       " 'long': 7,\n",
       " 'sentence': 8}"
      ]
     },
     "execution_count": 3,
     "metadata": {},
     "output_type": "execute_result"
    }
   ],
   "source": [
    "vocab"
   ]
  },
  {
   "cell_type": "code",
   "execution_count": 7,
   "id": "0bcd4791",
   "metadata": {},
   "outputs": [
    {
     "name": "stdout",
     "output_type": "stream",
     "text": [
      "----split----\n",
      "I\n",
      "love\n",
      "raccoons,\n",
      "raccoons\n",
      "are\n",
      "fun\n",
      "----NLTK----\n",
      "I\n",
      "love\n",
      "raccoons\n",
      ",\n",
      "raccoons\n",
      "are\n",
      "fun\n"
     ]
    }
   ],
   "source": [
    "print(\"----split----\")\n",
    "b_sentence = \"I love this raccoon, this raccoon is very fun\"\n",
    "for word in b_sentence.split(\" \"):\n",
    "    print(word)\n",
    "    \n",
    "print(\"----NLTK----\")\n",
    "from nltk import word_tokenize\n",
    "for word in word_tokenize(b_sentence):\n",
    "    print(word)"
   ]
  },
  {
   "cell_type": "code",
   "execution_count": 4,
   "id": "e260c087",
   "metadata": {},
   "outputs": [
    {
     "data": {
      "text/plain": [
       "array([[1, 2, 1, 1, 2, 0, 1]], dtype=int64)"
      ]
     },
     "execution_count": 4,
     "metadata": {},
     "output_type": "execute_result"
    }
   ],
   "source": [
    "\"\"\"\n",
    "Bag of Words\n",
    "\n",
    "Ex. \n",
    "sentence 1 => she sells sea shells by the sea shells => [1, 1, 1, 1, 1, 1, 1, 0]\n",
    "sentence 2 => she sells sea shells by the sea shore => [1, 1, 1, 1, 1, 1, 0, 1]\n",
    "\n",
    "Count Vectorizer\n",
    "\n",
    "Ex. \n",
    "sentence 1 => she sells sea shells by the sea shells => [1, 2, 1, 1, 2, 0, 1]\n",
    "sentence 2 => she sells sea shells by the sea shore => [1, 2, 1, 1, 1, 1, 1]\n",
    "\"\"\"\n",
    "from sklearn.feature_extraction.text import CountVectorizer\n",
    "\n",
    "vectorizer = CountVectorizer()\n",
    "sentence_1 = \"she sells sea shells by the sea shells\"\n",
    "sentence_2 = \"she sells sea shells by the sea shore\"\n",
    "\n",
    "\n",
    "vectorizer.fit([sentence_1, sentence_2])\n",
    "vectorizer.transform([sentence_1]).toarray()"
   ]
  },
  {
   "cell_type": "code",
   "execution_count": 4,
   "id": "941fa069",
   "metadata": {},
   "outputs": [],
   "source": [
    "\"\"\"\n",
    "Glove Embeddings\n",
    "\n",
    "Download the file here: https://nlp.stanford.edu/projects/glove/  (https://nlp.stanford.edu/data/glove.6B.zip)\n",
    "If the previous website is down: \n",
    "https://www.kaggle.com/datasets/rtatman/glove-global-vectors-for-word-representation?resource=download&select=glove.6B.50d.txt\n",
    "\n",
    "\n",
    "\"\"\"\n",
    "\n",
    "glove_path = \"C:\\\\Users\\\\arthur\\\\Documents\\\\Data Science Club\\\\cxc-2022\\\\NLP\\\\glove.6B.50d.txt\"\n",
    "glove_dict = dict()\n",
    "with open(glove_path,'r', encoding=\"utf8\") as f:\n",
    "    for line in f:\n",
    "        values = line.split()\n",
    "        word = values[0]\n",
    "        vector = np.asarray(values[1:], np.float32)\n",
    "        glove_dict[word]=vector"
   ]
  },
  {
   "cell_type": "code",
   "execution_count": 5,
   "id": "3aefe454",
   "metadata": {},
   "outputs": [
    {
     "name": "stdout",
     "output_type": "stream",
     "text": [
      "(400000, 50)\n"
     ]
    }
   ],
   "source": [
    "sampled_dict_arr = np.stack(list(glove_dict.values()))\n",
    "print(sampled_dict_arr.shape)"
   ]
  },
  {
   "cell_type": "code",
   "execution_count": 6,
   "id": "ce20d72c",
   "metadata": {},
   "outputs": [],
   "source": [
    "target_words = [\"rabbit\", \"dog\", \"animal\", \"banana\", \"orange\", \"fruit\"]\n",
    "\n",
    "target_words_vec = np.stack([glove_dict[word] for word in target_words])"
   ]
  },
  {
   "cell_type": "code",
   "execution_count": 8,
   "id": "56e4ee57",
   "metadata": {},
   "outputs": [
    {
     "data": {
      "text/plain": [
       "(6, 50)"
      ]
     },
     "execution_count": 8,
     "metadata": {},
     "output_type": "execute_result"
    }
   ],
   "source": [
    "target_words_vec.shape"
   ]
  },
  {
   "cell_type": "code",
   "execution_count": 40,
   "id": "0f4531dd",
   "metadata": {},
   "outputs": [
    {
     "name": "stdout",
     "output_type": "stream",
     "text": [
      "----Animals----\n",
      "Rabbit 0.4237109422683716 || Dog 0.2747744917869568 || Banana 0.6638819873332977 || Orange 0.6706958115100861\n",
      "----Fruits----\n",
      "Rabbit 0.5733278393745422 || Dog 0.5328371524810791 || Banana 0.2818593978881836 || Orange 0.4039539098739624\n"
     ]
    }
   ],
   "source": [
    "from scipy.spatial import distance\n",
    "\n",
    "rabbit_animal = distance.cosine(target_words_vec[0], target_words_vec[2])\n",
    "dog_animal = distance.cosine(target_words_vec[1], target_words_vec[2])\n",
    "\n",
    "banana_animal = distance.cosine(target_words_vec[3], target_words_vec[2])\n",
    "orange_animal = distance.cosine(target_words_vec[4], target_words_vec[2])\n",
    "\n",
    "rabbit_fruit = distance.cosine(target_words_vec[0], target_words_vec[5])\n",
    "dog_fruit = distance.cosine(target_words_vec[1], target_words_vec[5])\n",
    "\n",
    "banana_fruit = distance.cosine(target_words_vec[3], target_words_vec[5])\n",
    "orange_fruit = distance.cosine(target_words_vec[4], target_words_vec[5])\n",
    "\n",
    "print(\"----Animals----\")\n",
    "print(\"Rabbit {} || Dog {} || Banana {} || Orange {}\".format(rabbit_animal, dog_animal, banana_animal, orange_animal))\n",
    "\n",
    "print(\"----Fruits----\")\n",
    "print(\"Rabbit {} || Dog {} || Banana {} || Orange {}\".format(rabbit_fruit, dog_fruit, banana_fruit, orange_fruit))"
   ]
  },
  {
   "cell_type": "code",
   "execution_count": 48,
   "id": "13716b31",
   "metadata": {},
   "outputs": [
    {
     "name": "stdout",
     "output_type": "stream",
     "text": [
      "[101, 2016, 15187, 2712, 10986, 2011, 1996, 2712, 10986, 102]\n",
      "--encode_plus--\n",
      "{'input_ids': [101, 2016, 15187, 2712, 10986, 2011, 1996, 2712, 10986, 102], 'token_type_ids': [0, 0, 0, 0, 0, 0, 0, 0, 0, 0], 'attention_mask': [1, 1, 1, 1, 1, 1, 1, 1, 1, 1]}\n"
     ]
    }
   ],
   "source": [
    "\"\"\"\n",
    "BERT Vectorizer\n",
    "\"\"\"\n",
    "import torch\n",
    "from transformers import BertTokenizer, BertModel\n",
    "\n",
    "tokenizer = BertTokenizer.from_pretrained('bert-base-uncased')\n",
    "tokenized_text = tokenizer.encode(sentence_1)\n",
    "print(tokenized_text)\n",
    "\n",
    "print(\"--encode_plus--\")\n",
    "tokenized_text = tokenizer.encode_plus(sentence_1)\n",
    "print(tokenized_text)"
   ]
  }
 ],
 "metadata": {
  "interpreter": {
   "hash": "783f0dc3bf06a379a2f542c4fd928c5983ac73b4340721d085c06efdeba9e65f"
  },
  "kernelspec": {
   "display_name": "Python 3.9.12 ('nlp_workshop')",
   "language": "python",
   "name": "python3"
  },
  "language_info": {
   "codemirror_mode": {
    "name": "ipython",
    "version": 3
   },
   "file_extension": ".py",
   "mimetype": "text/x-python",
   "name": "python",
   "nbconvert_exporter": "python",
   "pygments_lexer": "ipython3",
   "version": "3.9.12"
  }
 },
 "nbformat": 4,
 "nbformat_minor": 5
}
